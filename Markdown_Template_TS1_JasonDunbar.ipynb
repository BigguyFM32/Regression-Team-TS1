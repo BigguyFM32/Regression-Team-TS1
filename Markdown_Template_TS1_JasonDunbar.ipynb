{
  "nbformat": 4,
  "nbformat_minor": 0,
  "metadata": {
    "colab": {
      "name": "Markdown_Template_TS1_JasonDunbar",
      "provenance": []
    },
    "kernelspec": {
      "name": "python3",
      "display_name": "Python 3"
    },
    "language_info": {
      "name": "python"
    }
  },
  "cells": [
    {
      "cell_type": "markdown",
      "metadata": {
        "id": "qQWyhG_u2Xma"
      },
      "source": [
        "**INTRODUCTION/CONTEXT**"
      ]
    },
    {
      "cell_type": "markdown",
      "metadata": {
        "id": "UjcuGlFp2wC6"
      },
      "source": [
        "**PACKAGES**"
      ]
    },
    {
      "cell_type": "markdown",
      "metadata": {
        "id": "bk1Uy8pT23iW"
      },
      "source": [
        "**DATA IMPORT**"
      ]
    },
    {
      "cell_type": "markdown",
      "metadata": {
        "id": "UDxa7Bts29ru"
      },
      "source": [
        "**EXPLORATORY DATA ANALYSIS**"
      ]
    },
    {
      "cell_type": "markdown",
      "metadata": {
        "id": "2DpGJdeH3IaU"
      },
      "source": [
        "UNIVARIATE ANALYSIS"
      ]
    },
    {
      "cell_type": "markdown",
      "metadata": {
        "id": "dLEZsJSY3RNE"
      },
      "source": [
        "MULTIVARIATE ANALYSIS"
      ]
    },
    {
      "cell_type": "markdown",
      "metadata": {
        "id": "l6uLwFSi3TK4"
      },
      "source": [
        "**MODEL INSTANTIATION**"
      ]
    },
    {
      "cell_type": "markdown",
      "metadata": {
        "id": "hDMAmgzY3hLG"
      },
      "source": [
        "**MODEL TRAINING**"
      ]
    },
    {
      "cell_type": "markdown",
      "metadata": {
        "id": "hixL8IcI3rKG"
      },
      "source": [
        "**MODEL TESTING**"
      ]
    },
    {
      "cell_type": "markdown",
      "metadata": {
        "id": "0UP2_8tw31_c"
      },
      "source": [
        "**MODEL PREDICTION**"
      ]
    },
    {
      "cell_type": "markdown",
      "metadata": {
        "id": "qIQ9ErhD39Kl"
      },
      "source": [
        "**MODEL PERFORMANCE EVALUATION**"
      ]
    }
  ]
}